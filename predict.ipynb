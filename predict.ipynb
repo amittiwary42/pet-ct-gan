{
 "cells": [
  {
   "cell_type": "code",
   "execution_count": 1,
   "metadata": {
    "collapsed": true
   },
   "outputs": [],
   "source": [
    "import torch\n",
    "from torch.autograd import Variable\n",
    "from model import UNet\n",
    "import os\n",
    "import numpy as np\n",
    "import progressbar\n",
    "os.environ['CUDA_VISIBLE_DEVICES']='0'"
   ]
  },
  {
   "cell_type": "code",
   "execution_count": 2,
   "metadata": {
    "collapsed": true
   },
   "outputs": [],
   "source": [
    "from iterator import BasicVolumeIterator\n",
    "from pred_utils import calc_pad_for_fit, calc_pad_for_pred_loss, crop_pad_width"
   ]
  },
  {
   "cell_type": "code",
   "execution_count": 3,
   "metadata": {
    "collapsed": true
   },
   "outputs": [],
   "source": [
    "patch_size = [116, 132, 132]\n",
    "out_size = [28, 44, 44]"
   ]
  },
  {
   "cell_type": "code",
   "execution_count": 4,
   "metadata": {
    "collapsed": true
   },
   "outputs": [],
   "source": [
    "model = UNet(n_ch = 2, n_class = 1).cuda()\n",
    "model.load_state_dict(torch.load('models/best_generator.pt'))"
   ]
  },
  {
   "cell_type": "markdown",
   "metadata": {},
   "source": [
    "### Load the image and pad it so that we get same sized array after prediction"
   ]
  },
  {
   "cell_type": "code",
   "execution_count": 5,
   "metadata": {
    "collapsed": true
   },
   "outputs": [],
   "source": [
    "img_arr = np.load('/mnt/sdb1/intern_data/pix2pix_wbce_pet3d/test/0_input.npy')\n",
    "pad_size1 = calc_pad_for_fit(img_arr.shape, out_size)\n",
    "pad_size2 = calc_pad_for_pred_loss(patch_size, out_size)\n",
    "pad_size_to_crop = pad_size1\n",
    "tot_pad_size = [(x[0]+y[0], x[1]+y[1]) for x,y in zip(pad_size1, pad_size2)]\n",
    "img_arr_padded = np.pad(img_arr, tot_pad_size, mode = 'constant')\n",
    "dummy_output_arr_to_be_predicted = np.pad(img_arr, pad_size1, mode = 'constant')"
   ]
  },
  {
   "cell_type": "code",
   "execution_count": 6,
   "metadata": {
    "collapsed": true
   },
   "outputs": [],
   "source": [
    "inp_itr = BasicVolumeIterator(img_arr_padded, patch_size, out_size)\n",
    "out_itr = BasicVolumeIterator(dummy_output_arr_to_be_predicted, out_size, out_size)"
   ]
  },
  {
   "cell_type": "markdown",
   "metadata": {},
   "source": [
    "### Noise (to be sent to the generator)"
   ]
  },
  {
   "cell_type": "code",
   "execution_count": 7,
   "metadata": {
    "collapsed": true
   },
   "outputs": [],
   "source": [
    "def sample_noise(batch_size, channels = 1, width = 116, height = 132, depth = 132):\n",
    "    z = torch.rand(batch_size, channels, width, height, depth)\n",
    "    return z"
   ]
  },
  {
   "cell_type": "markdown",
   "metadata": {},
   "source": [
    "### Raster scan the whole image and predict"
   ]
  },
  {
   "cell_type": "code",
   "execution_count": 8,
   "metadata": {},
   "outputs": [
    {
     "name": "stderr",
     "output_type": "stream",
     "text": [
      " 99% (1439 of 1440) |#################### | Elapsed Time: 0:05:53 ETA:  0:00:00"
     ]
    }
   ],
   "source": [
    "bar = progressbar.ProgressBar(max_value = out_itr.get_num_patches())\n",
    "count = 0\n",
    "while inp_itr.is_not_over():\n",
    "    input_arr = inp_itr.get_patch().reshape(1,1,116,132,132)\n",
    "    inp_itr.move_coords()\n",
    "    input_arr = Variable(torch.from_numpy(input_arr).float().cuda(), volatile = True)\n",
    "    gen_noise = Variable(sample_noise(1).float().cuda(), volatile = True)\n",
    "    input_arr = torch.cat((input_arr, gen_noise), 1)\n",
    "    pred_arr = model(input_arr)\n",
    "    pred_arr = pred_arr.data.cpu().numpy()\n",
    "    pred_arr = pred_arr.reshape(28,44,44)\n",
    "#    pred_arr = np.random.randn(28,44,44)\n",
    "    out_itr.set_patch(pred_arr)\n",
    "    out_itr.move_coords()\n",
    "    bar.update(count)\n",
    "    count = count + 1\n",
    "output_arr = out_itr.vol_array\n",
    "output_arr = crop_pad_width(output_arr, pad_size1)\n",
    "np.save('experiments/0_amit_pred_best_generator.npy', output_arr)"
   ]
  },
  {
   "cell_type": "code",
   "execution_count": null,
   "metadata": {
    "collapsed": true
   },
   "outputs": [],
   "source": []
  }
 ],
 "metadata": {
  "kernelspec": {
   "display_name": "Python 3",
   "language": "python",
   "name": "python3"
  },
  "language_info": {
   "codemirror_mode": {
    "name": "ipython",
    "version": 3
   },
   "file_extension": ".py",
   "mimetype": "text/x-python",
   "name": "python",
   "nbconvert_exporter": "python",
   "pygments_lexer": "ipython3",
   "version": "3.6.3"
  }
 },
 "nbformat": 4,
 "nbformat_minor": 2
}
