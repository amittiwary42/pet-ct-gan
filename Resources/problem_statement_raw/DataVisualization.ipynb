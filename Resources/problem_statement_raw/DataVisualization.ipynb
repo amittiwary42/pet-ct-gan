{
 "cells": [
  {
   "cell_type": "code",
   "execution_count": 1,
   "metadata": {
    "collapsed": true
   },
   "outputs": [],
   "source": [
    "%load_ext autoreload\n",
    "%autoreload 2"
   ]
  },
  {
   "cell_type": "code",
   "execution_count": 2,
   "metadata": {
    "collapsed": true
   },
   "outputs": [],
   "source": [
    "import matplotlib\n",
    "%matplotlib notebook\n",
    "import matplotlib.pyplot as plt\n",
    "import pprint\n",
    "import os\n",
    "import numpy as np"
   ]
  },
  {
   "cell_type": "markdown",
   "metadata": {},
   "source": [
    "### Check Training data"
   ]
  },
  {
   "cell_type": "code",
   "execution_count": 3,
   "metadata": {
    "scrolled": true
   },
   "outputs": [
    {
     "ename": "FileNotFoundError",
     "evalue": "[Errno 2] No such file or directory: '/mnt/sdb1/intern_data/pix2pix_wbce_pet3d/train'",
     "output_type": "error",
     "traceback": [
      "\u001b[0;31m---------------------------------------------------------------------------\u001b[0m",
      "\u001b[0;31mFileNotFoundError\u001b[0m                         Traceback (most recent call last)",
      "\u001b[0;32m<ipython-input-3-50813ec06481>\u001b[0m in \u001b[0;36m<module>\u001b[0;34m()\u001b[0m\n\u001b[1;32m      1\u001b[0m \u001b[0mdata_folder\u001b[0m \u001b[0;34m=\u001b[0m \u001b[0;34m'/mnt/sdb1/intern_data/pix2pix_wbce_pet3d/train'\u001b[0m\u001b[0;34m\u001b[0m\u001b[0m\n\u001b[0;32m----> 2\u001b[0;31m \u001b[0mnum_files\u001b[0m \u001b[0;34m=\u001b[0m \u001b[0mlen\u001b[0m\u001b[0;34m(\u001b[0m\u001b[0mos\u001b[0m\u001b[0;34m.\u001b[0m\u001b[0mlistdir\u001b[0m\u001b[0;34m(\u001b[0m\u001b[0mdata_folder\u001b[0m\u001b[0;34m)\u001b[0m\u001b[0;34m)\u001b[0m\u001b[0;34m\u001b[0m\u001b[0m\n\u001b[0m\u001b[1;32m      3\u001b[0m \u001b[0mr\u001b[0m \u001b[0;34m=\u001b[0m \u001b[0mnp\u001b[0m\u001b[0;34m.\u001b[0m\u001b[0mrandom\u001b[0m\u001b[0;34m.\u001b[0m\u001b[0mrandint\u001b[0m\u001b[0;34m(\u001b[0m\u001b[0mnum_files\u001b[0m\u001b[0;34m//\u001b[0m\u001b[0;36m2\u001b[0m\u001b[0;34m)\u001b[0m\u001b[0;34m\u001b[0m\u001b[0m\n\u001b[1;32m      4\u001b[0m \u001b[0minput_img\u001b[0m \u001b[0;34m=\u001b[0m \u001b[0mnp\u001b[0m\u001b[0;34m.\u001b[0m\u001b[0mload\u001b[0m\u001b[0;34m(\u001b[0m\u001b[0mdata_folder\u001b[0m \u001b[0;34m+\u001b[0m \u001b[0;34m'/'\u001b[0m \u001b[0;34m+\u001b[0m \u001b[0mstr\u001b[0m\u001b[0;34m(\u001b[0m\u001b[0mr\u001b[0m\u001b[0;34m)\u001b[0m \u001b[0;34m+\u001b[0m \u001b[0;34m'_input.npy'\u001b[0m\u001b[0;34m)\u001b[0m\u001b[0;34m\u001b[0m\u001b[0m\n\u001b[1;32m      5\u001b[0m \u001b[0mtarget_img\u001b[0m \u001b[0;34m=\u001b[0m \u001b[0mnp\u001b[0m\u001b[0;34m.\u001b[0m\u001b[0mload\u001b[0m\u001b[0;34m(\u001b[0m\u001b[0mdata_folder\u001b[0m \u001b[0;34m+\u001b[0m \u001b[0;34m'/'\u001b[0m \u001b[0;34m+\u001b[0m \u001b[0mstr\u001b[0m\u001b[0;34m(\u001b[0m\u001b[0mr\u001b[0m\u001b[0;34m)\u001b[0m \u001b[0;34m+\u001b[0m \u001b[0;34m'_target.npy'\u001b[0m\u001b[0;34m)\u001b[0m\u001b[0;34m\u001b[0m\u001b[0m\n",
      "\u001b[0;31mFileNotFoundError\u001b[0m: [Errno 2] No such file or directory: '/mnt/sdb1/intern_data/pix2pix_wbce_pet3d/train'"
     ]
    }
   ],
   "source": [
    "data_folder = '/mnt/sdb1/intern_data/pix2pix_wbce_pet3d/train'\n",
    "num_files = len(os.listdir(data_folder))\n",
    "r = np.random.randint(num_files//2)\n",
    "input_img = np.load(data_folder + '/' + str(r) + '_input.npy')\n",
    "target_img = np.load(data_folder + '/' + str(r) + '_target.npy')\n",
    "for idx in range(5):\n",
    "    r_slice = np.random.randint(target_img.shape[0])\n",
    "    plt.figure()\n",
    "    plt.imshow(input_img[r_slice], cmap = 'gray')\n",
    "    plt.figure()\n",
    "    pad_size = 0\n",
    "    plt.imshow(np.pad(target_img[r_slice], ((pad_size,pad_size),(pad_size,pad_size)), 'constant'), cmap = 'gray')"
   ]
  },
  {
   "cell_type": "markdown",
   "metadata": {},
   "source": [
    "#### Check Test data"
   ]
  },
  {
   "cell_type": "code",
   "execution_count": null,
   "metadata": {
    "collapsed": true
   },
   "outputs": [],
   "source": [
    "data_dir = '/mnt/sdb1/intern_data/pix2pix_wbce_pet3d/test'\n",
    "num_files = len(os.listdir(data_dir))//2\n",
    "r = np.random.randint(num_files)\n",
    "input_img =  np.load(data_dir + '/' + str(r) + '_input.npy')\n",
    "target_img =  np.load(data_dir + '/' + str(r) + '_target.npy')\n",
    "for idx in range(5):\n",
    "    r_slice = np.random.randint(target_img.shape[0])\n",
    "    plt.figure()\n",
    "    plt.imshow(input_img[r_slice], cmap = 'gray')\n",
    "    plt.figure()\n",
    "    pad_size = 0\n",
    "    plt.imshow(np.pad(target_img[r_slice], ((pad_size,pad_size),(pad_size,pad_size)), 'constant'), cmap = 'gray')"
   ]
  },
  {
   "cell_type": "markdown",
   "metadata": {},
   "source": [
    "#### Check input, prediction and target"
   ]
  },
  {
   "cell_type": "code",
   "execution_count": null,
   "metadata": {
    "collapsed": true
   },
   "outputs": [],
   "source": [
    "data_dir = '/mnt/sdb1/intern_data/pix2pix_wbce_pet3d/test'\n",
    "pred_dir = '/mnt/sdb1/intern_data/pix2pix_wbce_pet3d/test_outputs'\n",
    "num_files = len(os.listdir(data_dir))//2\n",
    "# r = np.random.randint(num_files)\n",
    "r = 0\n",
    "input_img =  np.load(data_dir + '/' + str(r) + '_input.npy')\n",
    "target_img =  np.load(data_dir + '/' + str(r) + '_target.npy')\n",
    "pred_img = np.load(pred_dir + '/' + str(r) + '_pred.npy')\n",
    "for idx in range(5):\n",
    "    r_slice = np.random.randint(target_img.shape[0])\n",
    "    plt.figure()\n",
    "    plt.imshow(input_img[r_slice], cmap = 'gray')\n",
    "    plt.figure()\n",
    "    plt.imshow(target_img[r_slice], cmap = 'gray')\n",
    "    plt.figure()\n",
    "    plt.imshow(pred_img[r_slice], cmap = 'gray')    "
   ]
  },
  {
   "cell_type": "code",
   "execution_count": null,
   "metadata": {
    "collapsed": true
   },
   "outputs": [],
   "source": []
  }
 ],
 "metadata": {
  "kernelspec": {
   "display_name": "Python 3",
   "language": "python",
   "name": "python3"
  },
  "language_info": {
   "codemirror_mode": {
    "name": "ipython",
    "version": 3
   },
   "file_extension": ".py",
   "mimetype": "text/x-python",
   "name": "python",
   "nbconvert_exporter": "python",
   "pygments_lexer": "ipython3",
   "version": "3.6.3"
  }
 },
 "nbformat": 4,
 "nbformat_minor": 2
}
